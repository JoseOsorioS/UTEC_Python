{
  "nbformat": 4,
  "nbformat_minor": 0,
  "metadata": {
    "colab": {
      "provenance": [],
      "authorship_tag": "ABX9TyPENflWBVuYF9OFRpA9cuwQ",
      "include_colab_link": true
    },
    "kernelspec": {
      "name": "python3",
      "display_name": "Python 3"
    },
    "language_info": {
      "name": "python"
    }
  },
  "cells": [
    {
      "cell_type": "markdown",
      "metadata": {
        "id": "view-in-github",
        "colab_type": "text"
      },
      "source": [
        "<a href=\"https://colab.research.google.com/github/JoseOsorioS/UTEC_Python/blob/main/Jos%C3%A9_Osorio_UTEC_Python_repaso_Dic_2024.ipynb\" target=\"_parent\"><img src=\"https://colab.research.google.com/assets/colab-badge.svg\" alt=\"Open In Colab\"/></a>"
      ]
    },
    {
      "cell_type": "code",
      "execution_count": null,
      "metadata": {
        "id": "LgwkTJSZA84K"
      },
      "outputs": [],
      "source": []
    },
    {
      "cell_type": "markdown",
      "source": [
        "1. Creación de listas (4 puntos)\n",
        "Crea una lista llamada numeros que contenga los números del 1 al 10.\n",
        "# Pregunta 1\n",
        "numeros = list(range(1, 11))\n",
        "print(\"Lista números:\", numeros)"
      ],
      "metadata": {
        "id": "OfJ1XfqwBYif"
      }
    },
    {
      "cell_type": "markdown",
      "source": [],
      "metadata": {
        "id": "fbYz2nc4BXoU"
      }
    },
    {
      "cell_type": "code",
      "source": [
        "numeros = list(range(1, 11))\n",
        "print(\"Lista números:\", numeros)\n"
      ],
      "metadata": {
        "colab": {
          "base_uri": "https://localhost:8080/"
        },
        "id": "yTUbBXKkBbKP",
        "outputId": "604c107b-33a8-4326-d101-0ac903d735a1"
      },
      "execution_count": 1,
      "outputs": [
        {
          "output_type": "stream",
          "name": "stdout",
          "text": [
            "Lista números: [1, 2, 3, 4, 5, 6, 7, 8, 9, 10]\n"
          ]
        }
      ]
    },
    {
      "cell_type": "markdown",
      "source": [
        "2. Manipulación de listas (4 puntos)\n",
        "Agrega el número 11 al final de la lista numeros y luego elimina el número 5.\n",
        "Muestra la lista resultante.\n",
        "# Pregunta 2\n",
        "numeros.append(11) # Agregar 11\n",
        "numeros.remove(5) # Eliminar el número 5\n",
        "print(\"Lista después de agregar 11 y eliminar 5:\",\n",
        "numeros)"
      ],
      "metadata": {
        "id": "T_BBFsgrBvcc"
      }
    },
    {
      "cell_type": "code",
      "source": [
        "numeros.append(11) # Agregar 11\n",
        "numeros.remove(5) # Eliminar el número 5\n",
        "print(\"Lista después de agregar 11 y eliminar 5:\", numeros)"
      ],
      "metadata": {
        "colab": {
          "base_uri": "https://localhost:8080/"
        },
        "id": "2qHgSsjTB0vc",
        "outputId": "d4befa10-501f-4b64-826e-8fbc0873ef5a"
      },
      "execution_count": 2,
      "outputs": [
        {
          "output_type": "stream",
          "name": "stdout",
          "text": [
            "Lista después de agregar 11 y eliminar 5: [1, 2, 3, 4, 6, 7, 8, 9, 10, 11]\n"
          ]
        }
      ]
    },
    {
      "cell_type": "markdown",
      "source": [
        "3. Slicing (4 puntos)\n",
        "Extrae una sublista de los números del índice 3 al 7 de la lista numeros.\n",
        "# Pregunta 3\n",
        "sublista = numeros[3:8]\n",
        "print(\"Sublista (índices 3 a 7):\", sublista)"
      ],
      "metadata": {
        "id": "qK-ZKZgECTuH"
      }
    },
    {
      "cell_type": "code",
      "source": [
        "sublista = numeros[3:8]\n",
        "print(\"Sublista (índices 3 a 7):\", sublista)"
      ],
      "metadata": {
        "colab": {
          "base_uri": "https://localhost:8080/"
        },
        "id": "tn2lvgV6CXO8",
        "outputId": "98e33ff7-bfb5-401b-af71-4ad168dd1118"
      },
      "execution_count": 3,
      "outputs": [
        {
          "output_type": "stream",
          "name": "stdout",
          "text": [
            "Sublista (índices 3 a 7): [4, 6, 7, 8, 9]\n"
          ]
        }
      ]
    },
    {
      "cell_type": "markdown",
      "source": [
        "4. Operaciones con listas (4 puntos)\n",
        "Crea una lista llamada cuadrados que contenga el cuadrado de cada elemento\n",
        "de la lista numeros usando list comprehension.\n",
        "# Pregunta 4\n",
        "cuadrados = [x**2 for x in numeros]\n",
        "print(\"Lista de cuadrados:\", cuadrados)"
      ],
      "metadata": {
        "id": "DM3J1bCBC2wy"
      }
    },
    {
      "cell_type": "code",
      "source": [
        "cuadrados = [x**2 for x in numeros]\n",
        "print(\"Lista de cuadrados:\", cuadrados)"
      ],
      "metadata": {
        "colab": {
          "base_uri": "https://localhost:8080/"
        },
        "id": "ZUGdJl4AC4kF",
        "outputId": "a2ad2c06-0e3e-4b63-eac1-b40ce0f809d6"
      },
      "execution_count": 9,
      "outputs": [
        {
          "output_type": "stream",
          "name": "stdout",
          "text": [
            "Lista de cuadrados: [1, 4, 9, 16, 36, 49, 64, 81, 100, 121]\n"
          ]
        }
      ]
    },
    {
      "cell_type": "markdown",
      "source": [
        "5. Uso de funciones (4 puntos)\n",
        "Escribe una función llamada promedio_lista que reciba una lista de números y\n",
        "retorne su promedio. Aplica la función a la lista numeros.\n",
        "# Pregunta 5\n",
        "def promedio_lista(lista):\n",
        "return sum(lista) / len(lista)\n",
        "promedio = promedio_lista(numeros)\n",
        "print(\"Promedio de la lista:\", promedio)"
      ],
      "metadata": {
        "id": "AuVxgcixD_O7"
      }
    },
    {
      "cell_type": "code",
      "source": [
        "def promedio_lista(lista):\n",
        "    return sum(lista) / len(lista)\n",
        "promedio = promedio_lista(numeros)\n",
        "print(\"Promedio de la lista:\", promedio)\n"
      ],
      "metadata": {
        "colab": {
          "base_uri": "https://localhost:8080/"
        },
        "id": "X4yudPzhEAxp",
        "outputId": "f1470608-1346-46a2-b67d-a1bc92527d68"
      },
      "execution_count": 10,
      "outputs": [
        {
          "output_type": "stream",
          "name": "stdout",
          "text": [
            "Promedio de la lista: 6.1\n"
          ]
        }
      ]
    },
    {
      "cell_type": "markdown",
      "source": [
        "Sección 2: Tuplas en Python (15 puntos)\n",
        "1. 2. 3. Creación de tuplas (3 puntos)\n",
        "Crea una tupla llamada coordenadas con los valores (10, 20, 30).\n",
        "# Pregunta 1\n",
        "coordenadas = (10, 20, 30)\n",
        "print(\"Tupla coordenadas:\", coordenadas)"
      ],
      "metadata": {
        "id": "k5VMXMKvEnWv"
      }
    },
    {
      "cell_type": "code",
      "source": [
        "coordenadas = (10, 20, 30)\n",
        "print(\"Tupla coordenadas:\", coordenadas)"
      ],
      "metadata": {
        "colab": {
          "base_uri": "https://localhost:8080/"
        },
        "id": "YxiCjpMMEpZQ",
        "outputId": "eafbe16f-f8c7-4802-ad5f-5a4e30fc071a"
      },
      "execution_count": 3,
      "outputs": [
        {
          "output_type": "stream",
          "name": "stdout",
          "text": [
            "Tupla coordenadas: (10, 20, 30)\n"
          ]
        }
      ]
    },
    {
      "cell_type": "markdown",
      "source": [
        "Desempaquetado de tuplas (4 puntos)\n",
        "Desempaqueta la tupla coordenadas en tres variables: x, y, z, e imprime cada\n",
        "valor.\n",
        "# Pregunta 2\n",
        "x, y, z = coordenadas\n",
        "print(\"Valores desempaquetados:\", x, y, z)"
      ],
      "metadata": {
        "id": "w-X2xB9cRR1v"
      }
    },
    {
      "cell_type": "code",
      "source": [
        "x, y, z = coordenadas\n",
        "print(\"Valores desempaquetados:\", x, y, z)"
      ],
      "metadata": {
        "colab": {
          "base_uri": "https://localhost:8080/"
        },
        "id": "Zi98pVjNRVOn",
        "outputId": "86f1a264-0e40-4987-ac83-d4b188fe5ad0"
      },
      "execution_count": 4,
      "outputs": [
        {
          "output_type": "stream",
          "name": "stdout",
          "text": [
            "Valores desempaquetados: 10 20 30\n"
          ]
        }
      ]
    },
    {
      "cell_type": "markdown",
      "source": [
        "Uso de tuplas (4 puntos)\n",
        "Escribe una función que reciba una tupla de números y retorne la suma de sus\n",
        "elementos. Aplica la función a la tupla (5, 10, 15, 20).\n",
        "# Pregunta 3\n",
        "def suma_tupla(tupla):\n",
        "return sum(tupla)\n",
        "resultado = suma_tupla((5, 10, 15, 20))\n",
        "print(\"Suma de la tupla:\", resultado)"
      ],
      "metadata": {
        "id": "X3En48F9SJyM"
      }
    },
    {
      "cell_type": "code",
      "source": [
        "def suma_tupla(tupla):\n",
        "    return sum(tupla)\n",
        "resultado = suma_tupla((5, 10, 15, 20))\n",
        "print(\"Suma de la tupla:\", resultado)"
      ],
      "metadata": {
        "colab": {
          "base_uri": "https://localhost:8080/"
        },
        "id": "pr3_TqIWSLVV",
        "outputId": "15e018a0-acc1-405d-fb94-bded190ae99a"
      },
      "execution_count": 7,
      "outputs": [
        {
          "output_type": "stream",
          "name": "stdout",
          "text": [
            "Suma de la tupla: 50\n"
          ]
        }
      ]
    },
    {
      "cell_type": "markdown",
      "source": [
        "Inmutabilidad de las tuplas (4 puntos)\n",
        "Explica qué sucede si intentas modificar un elemento de la tupla coordenadas\n",
        "con la línea de código coordenadas[0] = 100. Escribe tu respuesta en un\n",
        "comentario.\n",
        "# Pregunta 4\n",
        "# coordenadas[0] = 100 # Esto da un error porque las\n",
        "tuplas son inmutables\n",
        "print(\"Las tuplas son inmutables, no se pueden modificar\n",
        "sus elementos.\")"
      ],
      "metadata": {
        "id": "yufdwRPrVDoQ"
      }
    },
    {
      "cell_type": "code",
      "source": [
        "coordenadas[0] = 100\n",
        "print(\"Las tuplas son inmutables, no se pueden modificar sus elementos.\")"
      ],
      "metadata": {
        "colab": {
          "base_uri": "https://localhost:8080/",
          "height": 158
        },
        "id": "d2mHQ4cgVFIc",
        "outputId": "4b1a7c50-5121-4dcd-819f-22f0374d055f"
      },
      "execution_count": 9,
      "outputs": [
        {
          "output_type": "error",
          "ename": "TypeError",
          "evalue": "'tuple' object does not support item assignment",
          "traceback": [
            "\u001b[0;31m---------------------------------------------------------------------------\u001b[0m",
            "\u001b[0;31mTypeError\u001b[0m                                 Traceback (most recent call last)",
            "\u001b[0;32m<ipython-input-9-6b1966ae570c>\u001b[0m in \u001b[0;36m<cell line: 1>\u001b[0;34m()\u001b[0m\n\u001b[0;32m----> 1\u001b[0;31m \u001b[0mcoordenadas\u001b[0m\u001b[0;34m[\u001b[0m\u001b[0;36m0\u001b[0m\u001b[0;34m]\u001b[0m \u001b[0;34m=\u001b[0m \u001b[0;36m100\u001b[0m\u001b[0;34m\u001b[0m\u001b[0;34m\u001b[0m\u001b[0m\n\u001b[0m\u001b[1;32m      2\u001b[0m \u001b[0mprint\u001b[0m\u001b[0;34m(\u001b[0m\u001b[0;34m\"Las tuplas son inmutables, no se pueden modificar sus elementos.\"\u001b[0m\u001b[0;34m)\u001b[0m\u001b[0;34m\u001b[0m\u001b[0;34m\u001b[0m\u001b[0m\n",
            "\u001b[0;31mTypeError\u001b[0m: 'tuple' object does not support item assignment"
          ]
        }
      ]
    },
    {
      "cell_type": "markdown",
      "source": [
        "Sección 3: Diccionarios en Python (20 puntos)\n",
        "1. Creación de diccionarios (4 puntos)\n",
        "Crea un diccionario llamado alumno con las claves: nombre, edad y notas. Los\n",
        "valores deben ser \"Ana\", 20 y [18, 19, 20], respectivamente.\n",
        "# Pregunta 1\n",
        "alumno = {\"nombre\": \"Ana\", \"edad\": 20, \"notas\": [18, 19,\n",
        "20]}\n",
        "print(\"Diccionario alumno:\", alumno)"
      ],
      "metadata": {
        "id": "i8YjDeFKVyRP"
      }
    },
    {
      "cell_type": "code",
      "source": [
        "alumno = {\"nombre\": \"Ana\", \"edad\": 20, \"notas\": [18, 19, 20]}\n",
        "print(\"Diccionario alumno:\", alumno)"
      ],
      "metadata": {
        "colab": {
          "base_uri": "https://localhost:8080/"
        },
        "id": "Ad_Mi3I0Vzwd",
        "outputId": "96c909e1-a4a9-439f-8255-7fc90b330f5b"
      },
      "execution_count": 15,
      "outputs": [
        {
          "output_type": "stream",
          "name": "stdout",
          "text": [
            "Diccionario alumno: {'nombre': 'Ana', 'edad': 20, 'notas': [18, 19, 20]}\n"
          ]
        }
      ]
    },
    {
      "cell_type": "markdown",
      "source": [
        "2. Acceso y modificación (4 puntos)\n",
        "Agrega una nueva clave llamada curso con el valor \"Python Básico\" al\n",
        "diccionario alumno e imprime el diccionario.\n",
        "# Pregunta 2\n",
        "alumno[\"curso\"] = \"Python Básico\"\n",
        "print(\"Diccionario después de agregar 'curso':\", alumno)"
      ],
      "metadata": {
        "id": "v9uBmbpDV9zf"
      }
    },
    {
      "cell_type": "code",
      "source": [
        "alumno[\"curso\"] = \"Python Básico\"\n",
        "print(\"Diccionario después de agregar 'curso':\", alumno)\n"
      ],
      "metadata": {
        "colab": {
          "base_uri": "https://localhost:8080/"
        },
        "id": "VYqNYqUFWDGY",
        "outputId": "37000eea-a29c-4625-b44e-09a0fa66bd2c"
      },
      "execution_count": 13,
      "outputs": [
        {
          "output_type": "stream",
          "name": "stdout",
          "text": [
            "Diccionario después de agregar 'curso': {'nombre': 'Ana', 'edad': 20, 'notas': [18, 19, 20], 'curso': 'Python Básico'}\n"
          ]
        }
      ]
    },
    {
      "cell_type": "markdown",
      "source": [
        "3. Iteración en diccionarios (4 puntos)\n",
        "Escribe un bucle for que imprima cada clave y su valor en el diccionario\n",
        "alumno.\n",
        "# Pregunta 3\n",
        "print(\"Claves y valores del diccionario:\")\n",
        "for clave, valor in alumno.items():\n",
        "print(f\"{clave}: {valor}\")"
      ],
      "metadata": {
        "id": "zgnc6p14WeJs"
      }
    },
    {
      "cell_type": "code",
      "source": [
        "print(\"Claves y valores del diccionario:\")\n",
        "for clave, valor in alumno.items():print(f\"{clave}: {valor}\")"
      ],
      "metadata": {
        "colab": {
          "base_uri": "https://localhost:8080/"
        },
        "id": "ysrrAhDTWlan",
        "outputId": "22a8a93b-9704-45dc-aa89-8eeccb31f950"
      },
      "execution_count": 20,
      "outputs": [
        {
          "output_type": "stream",
          "name": "stdout",
          "text": [
            "Claves y valores del diccionario:\n",
            "nombre: Ana\n",
            "edad: 20\n",
            "notas: [18, 19, 20]\n"
          ]
        }
      ]
    },
    {
      "cell_type": "markdown",
      "source": [
        "Uso de métodos (4 puntos)\n",
        "Usa el método pop para eliminar la clave edad del diccionario alumno. Imprime\n",
        "el diccionario resultante.\n",
        "# Pregunta 4\n",
        "alumno.pop(\"edad\")\n",
        "print(\"Diccionario después de eliminar 'edad':\", alumno)"
      ],
      "metadata": {
        "id": "kai8bUwcXuqo"
      }
    },
    {
      "cell_type": "code",
      "source": [
        "alumno.pop(\"edad\")\n",
        "print(\"Diccionario después de eliminar 'edad':\", alumno)"
      ],
      "metadata": {
        "colab": {
          "base_uri": "https://localhost:8080/"
        },
        "id": "NYDwqoaqXwMJ",
        "outputId": "2d04337c-0aa4-4c4b-d7d8-8dbb1e730389"
      },
      "execution_count": 21,
      "outputs": [
        {
          "output_type": "stream",
          "name": "stdout",
          "text": [
            "Diccionario después de eliminar 'edad': {'nombre': 'Ana', 'notas': [18, 19, 20]}\n"
          ]
        }
      ]
    },
    {
      "cell_type": "markdown",
      "source": [
        "Funciones con diccionarios (4 puntos)\n",
        "Escribe una función llamada promedio_notas que reciba un diccionario con la\n",
        "estructura del diccionario alumno y retorne el promedio de las notas.\n",
        "# Pregunta 5\n",
        "def promedio_notas(dic):\n",
        "return sum(dic[\"notas\"]) / len(dic[\"notas\"])\n",
        "promedio = promedio_notas(alumno)\n",
        "print(\"Promedio de las notas:\", promedio)"
      ],
      "metadata": {
        "id": "8myMkU0pYXJo"
      }
    },
    {
      "cell_type": "code",
      "source": [
        "def promedio_notas(dic):\n",
        "    return sum(dic[\"notas\"]) / len(dic[\"notas\"])\n",
        "promedio = promedio_notas(alumno)\n",
        "print(\"Promedio de las notas:\", promedio)\n",
        "#"
      ],
      "metadata": {
        "colab": {
          "base_uri": "https://localhost:8080/"
        },
        "id": "Np7eAEpoYZ5Q",
        "outputId": "621f3471-50e5-4f3d-d81b-da539a5ea1a5"
      },
      "execution_count": 22,
      "outputs": [
        {
          "output_type": "stream",
          "name": "stdout",
          "text": [
            "Promedio de las notas: 19.0\n"
          ]
        }
      ]
    }
  ]
}