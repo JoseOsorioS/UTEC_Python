{
  "nbformat": 4,
  "nbformat_minor": 0,
  "metadata": {
    "colab": {
      "provenance": [],
      "authorship_tag": "ABX9TyOsXJh4XoFzWMCs8Jvf/R70",
      "include_colab_link": true
    },
    "kernelspec": {
      "name": "python3",
      "display_name": "Python 3"
    },
    "language_info": {
      "name": "python"
    }
  },
  "cells": [
    {
      "cell_type": "markdown",
      "metadata": {
        "id": "view-in-github",
        "colab_type": "text"
      },
      "source": [
        "<a href=\"https://colab.research.google.com/github/JoseOsorioS/UTEC_Python/blob/main/Untitled0.ipynb\" target=\"_parent\"><img src=\"https://colab.research.google.com/assets/colab-badge.svg\" alt=\"Open In Colab\"/></a>"
      ]
    },
    {
      "cell_type": "code",
      "execution_count": null,
      "metadata": {
        "id": "Sr8pbCqZuL5i"
      },
      "outputs": [],
      "source": [
        "multiplicar = lambda x, y : x * y"
      ]
    },
    {
      "cell_type": "code",
      "source": [
        "def compute_grade(average_score):\n",
        "    if average_score >= 80.0:\n",
        "        grade = \"A\"\n",
        "\n",
        "    elif average_score >= 60.0:\n",
        "        grade = \"B\"\n",
        "\n",
        "    elif average_score >= 50.0:\n",
        "        grade = \"C\"\n",
        "\n",
        "    else:\n",
        "        grade = \"F\"\n",
        "\n",
        "    return grade\n",
        "\n",
        "average_score = 67.8\n",
        "\n",
        "grade = compute_grade(average_score)\n",
        "print(grade)    # Output: B\n"
      ],
      "metadata": {
        "id": "3ElgyulgJ4ut",
        "outputId": "209c3d38-dd32-4be7-fa9a-716a8222f0ff",
        "colab": {
          "base_uri": "https://localhost:8080/"
        }
      },
      "execution_count": null,
      "outputs": [
        {
          "output_type": "stream",
          "name": "stdout",
          "text": [
            "B\n"
          ]
        }
      ]
    },
    {
      "cell_type": "markdown",
      "source": [
        "dame ejemplo de código con if y elif"
      ],
      "metadata": {
        "id": "sD-Na0tJGJRS"
      }
    },
    {
      "cell_type": "code",
      "source": [],
      "metadata": {
        "id": "gteocNTRGVf9"
      },
      "execution_count": null,
      "outputs": []
    },
    {
      "cell_type": "markdown",
      "source": [],
      "metadata": {
        "id": "Tj69piwZuM7H"
      }
    }
  ]
}