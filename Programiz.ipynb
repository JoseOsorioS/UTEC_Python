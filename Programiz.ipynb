{
  "nbformat": 4,
  "nbformat_minor": 0,
  "metadata": {
    "colab": {
      "provenance": [],
      "authorship_tag": "ABX9TyNMIGe2jG8Oapkb0TS9DboG",
      "include_colab_link": true
    },
    "kernelspec": {
      "name": "python3",
      "display_name": "Python 3"
    },
    "language_info": {
      "name": "python"
    }
  },
  "cells": [
    {
      "cell_type": "markdown",
      "metadata": {
        "id": "view-in-github",
        "colab_type": "text"
      },
      "source": [
        "<a href=\"https://colab.research.google.com/github/JoseOsorioS/UTEC_Python/blob/main/Programiz.ipynb\" target=\"_parent\"><img src=\"https://colab.research.google.com/assets/colab-badge.svg\" alt=\"Open In Colab\"/></a>"
      ]
    },
    {
      "cell_type": "code",
      "execution_count": null,
      "metadata": {
        "id": "H2ra2JZuV1HQ"
      },
      "outputs": [],
      "source": []
    },
    {
      "cell_type": "markdown",
      "source": [
        "Arguments are the inputs to the function, and return value is the output from the function."
      ],
      "metadata": {
        "id": "eYsqnBhOYgvU"
      }
    },
    {
      "cell_type": "code",
      "source": [
        "def add_numbers(a,b):\n",
        "    result = a+b\n",
        "    return result\n",
        "\n",
        "total = add_numbers(10,20)\n",
        "print(total)\n",
        "\n",
        "print (add_numbers(100,200))"
      ],
      "metadata": {
        "colab": {
          "base_uri": "https://localhost:8080/"
        },
        "id": "uSKvbEYeYjT_",
        "outputId": "e69a04de-d707-451b-9f8e-18a8ecec9eb0"
      },
      "execution_count": null,
      "outputs": [
        {
          "output_type": "stream",
          "name": "stdout",
          "text": [
            "30\n",
            "300\n"
          ]
        }
      ]
    },
    {
      "cell_type": "code",
      "source": [
        "odd_numbers = [1,3,5,7,9]\n",
        "even_numbers = [2,4,6,8]\n",
        "all_numbers = odd_numbers + even_numbers\n",
        "print(all_numbers)\n",
        "#"
      ],
      "metadata": {
        "colab": {
          "base_uri": "https://localhost:8080/"
        },
        "id": "C2pnaHiJmsrz",
        "outputId": "f85db90c-391f-460f-baa6-70074ef5d4c5"
      },
      "execution_count": null,
      "outputs": [
        {
          "output_type": "stream",
          "name": "stdout",
          "text": [
            "[1, 3, 5, 7, 9, 2, 4, 6, 8]\n"
          ]
        }
      ]
    },
    {
      "cell_type": "code",
      "source": [
        "list1 = []\n",
        "print (list1)\n",
        "numbers = [1,2,3]\n",
        "print (numbers)\n",
        "mixed_list = [1,'hello',3.4]\n",
        "print (mixed_list)"
      ],
      "metadata": {
        "colab": {
          "base_uri": "https://localhost:8080/"
        },
        "id": "qS6D0EJtb0pz",
        "outputId": "6285cb2c-ad2e-49db-c9dd-53398881553e"
      },
      "execution_count": null,
      "outputs": [
        {
          "output_type": "stream",
          "name": "stdout",
          "text": [
            "[]\n",
            "[1, 2, 3]\n",
            "[1, 'hello', 3.4]\n"
          ]
        }
      ]
    },
    {
      "cell_type": "code",
      "source": [
        "languages = ['Python','JavaScript','C++']\n",
        "lenghth = len(languages)\n",
        "print (lenghth)\n",
        "print (languages)"
      ],
      "metadata": {
        "colab": {
          "base_uri": "https://localhost:8080/"
        },
        "id": "g3CDFelBdlAD",
        "outputId": "b3c45481-0c12-4eb2-b549-f3fefe485a23"
      },
      "execution_count": null,
      "outputs": [
        {
          "output_type": "stream",
          "name": "stdout",
          "text": [
            "3\n",
            "['Python', 'JavaScript', 'C++']\n"
          ]
        }
      ]
    },
    {
      "cell_type": "markdown",
      "source": [
        "Create a list named list1 containing 5 elements.\n",
        "Use the len() function to find the length of list1 and print it.\n"
      ],
      "metadata": {
        "id": "cgMMMj62etRt"
      }
    },
    {
      "cell_type": "code",
      "source": [
        "list1 = [1,2,3,4,5]\n",
        "length = len(list1)\n",
        "print (length)"
      ],
      "metadata": {
        "colab": {
          "base_uri": "https://localhost:8080/"
        },
        "id": "5Rr9y58uevD5",
        "outputId": "44b1b78d-1f5b-4d7d-d67d-15a2a53e68f6"
      },
      "execution_count": null,
      "outputs": [
        {
          "output_type": "stream",
          "name": "stdout",
          "text": [
            "5\n"
          ]
        }
      ]
    },
    {
      "cell_type": "markdown",
      "source": [
        "Create a list named odd_numbers containing 3 items: 9, 11, and 15.\n",
        "Print the second item of the list (using a positive index).\n"
      ],
      "metadata": {
        "id": "MTyjPcFLgft6"
      }
    },
    {
      "cell_type": "code",
      "source": [
        "odd_numbers = [9,11,15]\n",
        "print (odd_numbers[1])"
      ],
      "metadata": {
        "colab": {
          "base_uri": "https://localhost:8080/"
        },
        "id": "FQWarHB5ghTf",
        "outputId": "e7018fcc-3016-403d-b2b3-9d5b17151ff8"
      },
      "execution_count": null,
      "outputs": [
        {
          "output_type": "stream",
          "name": "stdout",
          "text": [
            "11\n"
          ]
        }
      ]
    },
    {
      "cell_type": "code",
      "source": [
        "numbers = [10, 20, 30, 40, 50, 60]\n"
      ],
      "metadata": {
        "id": "4V_L7fYGiqJT"
      },
      "execution_count": null,
      "outputs": []
    },
    {
      "cell_type": "code",
      "source": [
        "new_numbers = numbers[2: 5]\n",
        "print (new_numbers)"
      ],
      "metadata": {
        "colab": {
          "base_uri": "https://localhost:8080/"
        },
        "id": "P6spfk3yjDzs",
        "outputId": "b3dcc19c-9c80-4287-bc08-d55acc81bb28"
      },
      "execution_count": null,
      "outputs": [
        {
          "output_type": "stream",
          "name": "stdout",
          "text": [
            "[30, 40, 50]\n"
          ]
        }
      ]
    },
    {
      "cell_type": "code",
      "source": [
        "numbers = [12, 13, 14, 15]\n",
        "\n",
        "print(numbers[1: 3])\n",
        "print(numbers[2: ])"
      ],
      "metadata": {
        "colab": {
          "base_uri": "https://localhost:8080/"
        },
        "id": "6A-A8RuIz-tG",
        "outputId": "5aec3c3e-258a-4c04-ff0e-9ddc1736e82a"
      },
      "execution_count": null,
      "outputs": [
        {
          "output_type": "stream",
          "name": "stdout",
          "text": [
            "[13, 14]\n",
            "[14, 15]\n"
          ]
        }
      ]
    },
    {
      "cell_type": "code",
      "source": [
        "animals = ['dog', 'cat', 'guinea pig', 'rat']\n",
        "print (animals)"
      ],
      "metadata": {
        "colab": {
          "base_uri": "https://localhost:8080/"
        },
        "id": "idCEo94_1hf4",
        "outputId": "74d078f3-a37f-4a37-d524-25030ace81cb"
      },
      "execution_count": null,
      "outputs": [
        {
          "output_type": "stream",
          "name": "stdout",
          "text": [
            "['dog', 'cat', 'guinea pig', 'rat']\n"
          ]
        }
      ]
    },
    {
      "cell_type": "code",
      "source": [
        "animals[2] = 'tiger'\n",
        "print (animals)"
      ],
      "metadata": {
        "colab": {
          "base_uri": "https://localhost:8080/"
        },
        "id": "NPY8zYeS15fz",
        "outputId": "bb66f7bf-ca3a-4525-fb54-93cf907f7ccf"
      },
      "execution_count": null,
      "outputs": [
        {
          "output_type": "stream",
          "name": "stdout",
          "text": [
            "['dog', 'cat', 'tiger', 'rat']\n"
          ]
        }
      ]
    },
    {
      "cell_type": "markdown",
      "source": [],
      "metadata": {
        "id": "4UCNraA_3nww"
      }
    },
    {
      "cell_type": "code",
      "source": [
        "animals = ['dog', 'cat', 'rat']\n",
        "del animals[1]\n",
        "print (animals)"
      ],
      "metadata": {
        "colab": {
          "base_uri": "https://localhost:8080/"
        },
        "id": "IsIQ-uEC4Cxm",
        "outputId": "37181cd6-350a-4d35-9448-87214f21a64b"
      },
      "execution_count": null,
      "outputs": [
        {
          "output_type": "stream",
          "name": "stdout",
          "text": [
            "['dog', 'rat']\n"
          ]
        }
      ]
    },
    {
      "cell_type": "code",
      "source": [
        "animals = ['dog', 'cat']\n",
        "\n",
        "# add 'rabbit' at the end of the list\n",
        "animals.append('rabbit')\n",
        "\n",
        "print(animals)"
      ],
      "metadata": {
        "colab": {
          "base_uri": "https://localhost:8080/"
        },
        "id": "Y5-v9GIuIxP8",
        "outputId": "256ab688-49d4-46b8-d32d-354634b20196"
      },
      "execution_count": null,
      "outputs": [
        {
          "output_type": "stream",
          "name": "stdout",
          "text": [
            "['dog', 'cat', 'rabbit']\n"
          ]
        }
      ]
    },
    {
      "cell_type": "code",
      "source": [
        "animals = ['dog', 'cat']\n",
        "\n",
        "animals1 = ['rabbit', 'pig']\n",
        "\n",
        "# add items of animals1 list to the animals list\n",
        "animals.extend(animals1)\n",
        "\n",
        "print(animals)"
      ],
      "metadata": {
        "colab": {
          "base_uri": "https://localhost:8080/"
        },
        "id": "hE-Ft6wKJHSF",
        "outputId": "119eb1e3-b958-42d4-b45d-c6db35262bd0"
      },
      "execution_count": null,
      "outputs": [
        {
          "output_type": "stream",
          "name": "stdout",
          "text": [
            "['dog', 'cat', 'rabbit', 'pig']\n"
          ]
        }
      ]
    },
    {
      "cell_type": "code",
      "source": [
        "animals = ['dog', 'cat', 'rat']\n",
        "\n",
        "# 'rabbit' is inserted at the third position (index 2)\n",
        "animals.insert(2, 'rabbit')\n",
        "\n",
        "print(animals)"
      ],
      "metadata": {
        "colab": {
          "base_uri": "https://localhost:8080/"
        },
        "id": "hNw2C2P9JT2v",
        "outputId": "f012d381-5d95-4911-9251-e8a09c345aa1"
      },
      "execution_count": null,
      "outputs": [
        {
          "output_type": "stream",
          "name": "stdout",
          "text": [
            "['dog', 'cat', 'rabbit', 'rat']\n"
          ]
        }
      ]
    },
    {
      "cell_type": "code",
      "source": [
        "animals1 = ['dog', 'cat', 'rat']\n",
        "\n",
        "animals2 = animals1.copy()\n",
        "\n",
        "print(animals2)"
      ],
      "metadata": {
        "colab": {
          "base_uri": "https://localhost:8080/"
        },
        "id": "mEH7PZyfJhcd",
        "outputId": "2436c8d0-5102-46cd-f9b5-ccda27289712"
      },
      "execution_count": null,
      "outputs": [
        {
          "output_type": "stream",
          "name": "stdout",
          "text": [
            "['dog', 'cat', 'rat']\n"
          ]
        }
      ]
    },
    {
      "cell_type": "code",
      "source": [
        "animals = ['dog', 'cat', 'rat']\n",
        "\n",
        "# delete the second item\n",
        "del animals[1]\n",
        "\n",
        "print(animals) # ['dog', 'rat']\n",
        "\n",
        "# delete the first item\n",
        "del animals[0]\n",
        "\n",
        "print(animals) # ['rat']"
      ],
      "metadata": {
        "colab": {
          "base_uri": "https://localhost:8080/"
        },
        "id": "-HOXh_XiJvxj",
        "outputId": "b65bd52d-f7fb-4e27-911e-b695adc37008"
      },
      "execution_count": null,
      "outputs": [
        {
          "output_type": "stream",
          "name": "stdout",
          "text": [
            "['dog', 'rat']\n",
            "['rat']\n"
          ]
        }
      ]
    },
    {
      "cell_type": "code",
      "source": [],
      "metadata": {
        "id": "xJwdvF7yKrvh"
      },
      "execution_count": null,
      "outputs": []
    },
    {
      "cell_type": "markdown",
      "source": [
        "Create an empty list and assign it to the animals variable.\n",
        "Add \"dog\" to the end of the animals list using the append() method.\n",
        "Print the animals list.\n",
        "Again, add \"cat\" to the animals list using the append() method.\n",
        "Print the animals list again."
      ],
      "metadata": {
        "id": "1ao8oYQ0KnTx"
      }
    },
    {
      "cell_type": "code",
      "source": [
        "animals = []\n",
        "animals.append('dog')\n",
        "print (animals)\n",
        "animals.append('cat')\n",
        "print (animals)"
      ],
      "metadata": {
        "colab": {
          "base_uri": "https://localhost:8080/"
        },
        "id": "YrVxHxdcKtGA",
        "outputId": "d864cfa0-02a3-4e97-aefa-287e8260fbfc"
      },
      "execution_count": null,
      "outputs": [
        {
          "output_type": "stream",
          "name": "stdout",
          "text": [
            "['dog']\n",
            "['dog', 'cat']\n"
          ]
        }
      ]
    },
    {
      "cell_type": "code",
      "source": [
        "fruits = ['apple', 'potato', 'mango']\n",
        "\n",
        "if 'apple' in fruits:\n",
        "    print('apple is tasty')\n",
        "\n",
        "if 'potato' in fruits:\n",
        "    print('Whaaaat?')\n"
      ],
      "metadata": {
        "colab": {
          "base_uri": "https://localhost:8080/"
        },
        "id": "Wl_JR-BeLYl6",
        "outputId": "e04e1629-19ee-4d22-9612-e74cc24a07b5"
      },
      "execution_count": null,
      "outputs": [
        {
          "output_type": "stream",
          "name": "stdout",
          "text": [
            "apple is tasty\n",
            "Whaaaat?\n"
          ]
        }
      ]
    },
    {
      "cell_type": "code",
      "source": [
        "fruits = ['apple', 'banana', 'mango']\n",
        "\n",
        "print('Kiwi' in fruits)   # False\n",
        "print('Kiwi' not in fruits)"
      ],
      "metadata": {
        "colab": {
          "base_uri": "https://localhost:8080/"
        },
        "id": "pOUY8AkmLtjs",
        "outputId": "19b44cec-d067-4ef5-bf92-760ae3f9a0b1"
      },
      "execution_count": null,
      "outputs": [
        {
          "output_type": "stream",
          "name": "stdout",
          "text": [
            "False\n",
            "True\n"
          ]
        }
      ]
    },
    {
      "cell_type": "markdown",
      "source": [
        "Suppose we have a list like this: [10, 20, 30, 40]\n",
        "Your task is to find the length of this list programmatically."
      ],
      "metadata": {
        "id": "GqKvHAr4Mwkp"
      }
    },
    {
      "cell_type": "code",
      "source": [
        "numbers = [10, 20, 30, 40]\n",
        "\n",
        "length = len(numbers)\n",
        "print (length)"
      ],
      "metadata": {
        "colab": {
          "base_uri": "https://localhost:8080/"
        },
        "id": "jgWj-rzIMSXu",
        "outputId": "70eed0d0-6071-4f8e-f18f-ff3a22e58304"
      },
      "execution_count": null,
      "outputs": [
        {
          "output_type": "stream",
          "name": "stdout",
          "text": [
            "4\n"
          ]
        }
      ]
    },
    {
      "cell_type": "code",
      "source": [
        "odd_numbers = (9,11,15,17)"
      ],
      "metadata": {
        "id": "Tbw8tzt1RkrP"
      },
      "execution_count": null,
      "outputs": []
    },
    {
      "cell_type": "markdown",
      "source": [
        "Print the third item of the tuple (using a positive index)."
      ],
      "metadata": {
        "id": "FOitfbkWR7tm"
      }
    },
    {
      "cell_type": "code",
      "source": [
        "print (odd_numbers[2])"
      ],
      "metadata": {
        "colab": {
          "base_uri": "https://localhost:8080/"
        },
        "id": "Unb2VIhORwJW",
        "outputId": "c9c6b515-12ed-465a-b2e3-e0962faa3df9"
      },
      "execution_count": null,
      "outputs": [
        {
          "output_type": "stream",
          "name": "stdout",
          "text": [
            "15\n"
          ]
        }
      ]
    },
    {
      "cell_type": "code",
      "source": [
        "animal = \"Cat\"\n",
        "print (animal[-1])"
      ],
      "metadata": {
        "colab": {
          "base_uri": "https://localhost:8080/"
        },
        "id": "_QtjVr2XrCHK",
        "outputId": "5178d586-ac30-4f32-cc9e-7f57caf340f8"
      },
      "execution_count": null,
      "outputs": [
        {
          "output_type": "stream",
          "name": "stdout",
          "text": [
            "t\n"
          ]
        }
      ]
    },
    {
      "cell_type": "code",
      "source": [
        "text = \"Bamboozle\"\n",
        "print(text[0])"
      ],
      "metadata": {
        "colab": {
          "base_uri": "https://localhost:8080/"
        },
        "id": "uj1ke6BJrXzX",
        "outputId": "e1d2a92f-79a5-4c51-af6a-e4507207402a"
      },
      "execution_count": null,
      "outputs": [
        {
          "output_type": "stream",
          "name": "stdout",
          "text": [
            "B\n"
          ]
        }
      ]
    },
    {
      "cell_type": "code",
      "source": [
        "print( text[3])"
      ],
      "metadata": {
        "colab": {
          "base_uri": "https://localhost:8080/"
        },
        "id": "TCGBDGmzrwzw",
        "outputId": "ea1ba404-1676-4a57-b5c8-6969aa2fd874"
      },
      "execution_count": null,
      "outputs": [
        {
          "output_type": "stream",
          "name": "stdout",
          "text": [
            "b\n"
          ]
        }
      ]
    },
    {
      "cell_type": "code",
      "source": [
        "movie = \"Snowpiercer\"\n",
        "print( movie[3])"
      ],
      "metadata": {
        "colab": {
          "base_uri": "https://localhost:8080/"
        },
        "id": "yQRxgDqasHIm",
        "outputId": "226e8856-d6f5-43c1-8ee9-16b928f066e1"
      },
      "execution_count": null,
      "outputs": [
        {
          "output_type": "stream",
          "name": "stdout",
          "text": [
            "w\n"
          ]
        }
      ]
    },
    {
      "cell_type": "code",
      "source": [
        "movie = \"Pulp Fiction\"\n",
        "print( movie)"
      ],
      "metadata": {
        "colab": {
          "base_uri": "https://localhost:8080/"
        },
        "id": "ZBLaBnuqs1JG",
        "outputId": "2cd50440-cb27-45f0-acfc-80d3dc2f27ea"
      },
      "execution_count": null,
      "outputs": [
        {
          "output_type": "stream",
          "name": "stdout",
          "text": [
            "Pulp Fiction\n"
          ]
        }
      ]
    },
    {
      "cell_type": "code",
      "source": [
        "movie = \"Avengers: Endgame\"\n",
        "\n",
        "# characters from index 0 to 7\n",
        "print(movie[0: 8])   # Avengers\n",
        "\n",
        "# characters from index 0 to 7\n",
        "print(movie[: 8])   # Avengers\n",
        "\n",
        "# characters from index 10 to 16\n",
        "print(movie[10: 17])   # Endgame\n",
        "\n",
        "# characters from index 10 to last\n",
        "print(movie[10: ])   # Endgame\n",
        "\n",
        "# characters from first to last\n",
        "print(movie[:])   # Avengers: Endgame\n"
      ],
      "metadata": {
        "colab": {
          "base_uri": "https://localhost:8080/"
        },
        "id": "W0_kGFpTtba_",
        "outputId": "ded7e8ff-2903-4636-9f5c-a61dbc06bfec"
      },
      "execution_count": null,
      "outputs": [
        {
          "output_type": "stream",
          "name": "stdout",
          "text": [
            "Avengers\n",
            "Avengers\n",
            "Endgame\n",
            "Endgame\n",
            "Avengers: Endgame\n"
          ]
        }
      ]
    },
    {
      "cell_type": "markdown",
      "source": [
        "Get two string inputs from the user and store them in text1 and text2 respectively.\n",
        "Create a new string that will contain the first four characters of the text1 string and the last four characters of the text2 string. Store the resultant string in the result variable.\n",
        "Print the new string.\n"
      ],
      "metadata": {
        "id": "dWHNJfIiCEZU"
      }
    },
    {
      "cell_type": "code",
      "source": [
        "text1 = input()\n",
        "text2 = input()\n",
        "result = text1[:4] + text2[-4:]\n",
        "print (result)"
      ],
      "metadata": {
        "colab": {
          "base_uri": "https://localhost:8080/"
        },
        "id": "h4Im6WRZCF5Z",
        "outputId": "b046cb16-716a-4c0f-a3ea-4ad9f1731f9c"
      },
      "execution_count": null,
      "outputs": [
        {
          "output_type": "stream",
          "name": "stdout",
          "text": [
            "Magnus\n",
            "Carlsen\n",
            "Magnlsen\n"
          ]
        }
      ]
    },
    {
      "cell_type": "markdown",
      "source": [
        "Create a dictionary named student_info.\n",
        "Inside the dictionary, store two keys, 'name' and 'score' with values 'James' and 98, respectively.\n",
        "Print the dictionary."
      ],
      "metadata": {
        "id": "16vfsK3PlD3y"
      }
    },
    {
      "cell_type": "code",
      "source": [
        "student_info = {'name': 'James', 'score': 98}\n",
        "print (student_info)"
      ],
      "metadata": {
        "colab": {
          "base_uri": "https://localhost:8080/"
        },
        "id": "waj7fqaTlFsR",
        "outputId": "915b9bc1-561d-4040-855a-249e915c1d78"
      },
      "execution_count": null,
      "outputs": [
        {
          "output_type": "stream",
          "name": "stdout",
          "text": [
            "{'name': 'James', 'score': 98}\n"
          ]
        }
      ]
    },
    {
      "cell_type": "code",
      "source": [
        "numbers = {10: 'ten', 20: 'twenty', }\n",
        "\n",
        "length = len(numbers)\n",
        "print(length)    # Output: 2\n",
        "\n",
        "person_info = {}\n",
        "print(len(person_info))   # Output: 0\n"
      ],
      "metadata": {
        "colab": {
          "base_uri": "https://localhost:8080/"
        },
        "id": "n6EVzUchlbHW",
        "outputId": "056453a1-f71b-4c03-8b1a-3a88b8b47053"
      },
      "execution_count": null,
      "outputs": [
        {
          "output_type": "stream",
          "name": "stdout",
          "text": [
            "2\n",
            "0\n"
          ]
        }
      ]
    },
    {
      "cell_type": "code",
      "source": [
        "student_info = {\n",
        "    'name': 'Kyle',\n",
        "    'major': 'Computer Science',\n",
        "    'age': 19\n",
        "}\n",
        "\n",
        "print(student_info['car'])"
      ],
      "metadata": {
        "colab": {
          "base_uri": "https://localhost:8080/",
          "height": 176
        },
        "id": "YnWd3cS_lyRg",
        "outputId": "a6c35044-e949-4fa4-9d4c-76d6feb96412"
      },
      "execution_count": null,
      "outputs": [
        {
          "output_type": "error",
          "ename": "KeyError",
          "evalue": "'car'",
          "traceback": [
            "\u001b[0;31m---------------------------------------------------------------------------\u001b[0m",
            "\u001b[0;31mKeyError\u001b[0m                                  Traceback (most recent call last)",
            "\u001b[0;32m<ipython-input-4-5dde50eee008>\u001b[0m in \u001b[0;36m<cell line: 7>\u001b[0;34m()\u001b[0m\n\u001b[1;32m      5\u001b[0m }\n\u001b[1;32m      6\u001b[0m \u001b[0;34m\u001b[0m\u001b[0m\n\u001b[0;32m----> 7\u001b[0;31m \u001b[0mprint\u001b[0m\u001b[0;34m(\u001b[0m\u001b[0mstudent_info\u001b[0m\u001b[0;34m[\u001b[0m\u001b[0;34m'car'\u001b[0m\u001b[0;34m]\u001b[0m\u001b[0;34m)\u001b[0m\u001b[0;34m\u001b[0m\u001b[0;34m\u001b[0m\u001b[0m\n\u001b[0m",
            "\u001b[0;31mKeyError\u001b[0m: 'car'"
          ]
        }
      ]
    },
    {
      "cell_type": "markdown",
      "source": [
        "{'apple': 2.5, 'kiwi': 3.4}"
      ],
      "metadata": {
        "id": "hxTFe_GgoSzF"
      }
    },
    {
      "cell_type": "code",
      "source": [
        "prices = {'apple': 2.5, 'kiwi': 3.4}\n",
        "print (prices)"
      ],
      "metadata": {
        "colab": {
          "base_uri": "https://localhost:8080/"
        },
        "id": "HH5FNKK9oaxW",
        "outputId": "da43f335-dd46-4563-e693-e6d79db6e4a8"
      },
      "execution_count": null,
      "outputs": [
        {
          "output_type": "stream",
          "name": "stdout",
          "text": [
            "{'apple': 2.5, 'kiwi': 3.4}\n"
          ]
        }
      ]
    },
    {
      "cell_type": "markdown",
      "source": [
        "Change the value of the 'apple' key to 3.5.\n",
        "Print the dictionary.\n",
        "Add an item (key: 'banana', value: 3) to the dictionary.\n",
        "Print the dictionary again.\n"
      ],
      "metadata": {
        "id": "VK88vKJyomZM"
      }
    },
    {
      "cell_type": "markdown",
      "source": [],
      "metadata": {
        "id": "2s7R0JGioXiA"
      }
    },
    {
      "cell_type": "code",
      "source": [
        "prices['apple'] = 3.5\n",
        "print (prices)\n",
        "prices['banana'] = 3\n",
        "print (prices)\n",
        "prices"
      ],
      "metadata": {
        "colab": {
          "base_uri": "https://localhost:8080/"
        },
        "id": "a_6NndHTqnRl",
        "outputId": "2c3330e2-08de-4cf0-e3a2-a02ddea80e0c"
      },
      "execution_count": null,
      "outputs": [
        {
          "output_type": "stream",
          "name": "stdout",
          "text": [
            "{'apple': 3.5, 'kiwi': 3.4}\n",
            "{'apple': 3.5, 'kiwi': 3.4, 'banana': 3}\n"
          ]
        },
        {
          "output_type": "execute_result",
          "data": {
            "text/plain": [
              "{'apple': 3.5, 'kiwi': 3.4, 'banana': 3}"
            ]
          },
          "metadata": {},
          "execution_count": 8
        }
      ]
    },
    {
      "cell_type": "code",
      "source": [
        "squares = {1: 1, 3: 9, 5: 25}\n",
        "\n",
        "for key in squares:\n",
        "    print(key)"
      ],
      "metadata": {
        "colab": {
          "base_uri": "https://localhost:8080/"
        },
        "id": "iZfYhCpUBBUD",
        "outputId": "ae820ece-ab81-4674-c00c-e255575db8f0"
      },
      "execution_count": null,
      "outputs": [
        {
          "output_type": "stream",
          "name": "stdout",
          "text": [
            "1\n",
            "3\n",
            "5\n"
          ]
        }
      ]
    },
    {
      "cell_type": "code",
      "source": [
        "squares = {1: 1, 3: 9, 5: 25}\n",
        "\n",
        "for key in squares:\n",
        "\n",
        "    # get the value of a key\n",
        "    value = squares[key]\n",
        "    print(f\"{key} -> {value}\")\n"
      ],
      "metadata": {
        "colab": {
          "base_uri": "https://localhost:8080/"
        },
        "id": "BvK5lBnPBfbC",
        "outputId": "4ddd21bf-fdc4-4005-ae16-0315e629b43d"
      },
      "execution_count": null,
      "outputs": [
        {
          "output_type": "stream",
          "name": "stdout",
          "text": [
            "1 -> 1\n",
            "3 -> 9\n",
            "5 -> 25\n"
          ]
        }
      ]
    },
    {
      "cell_type": "code",
      "source": [
        "prices = {'apple': 2, 'kiwi': 3}\n",
        "print (prices)"
      ],
      "metadata": {
        "colab": {
          "base_uri": "https://localhost:8080/"
        },
        "id": "2CBaJKvfB4r7",
        "outputId": "f2239cfe-54ed-45c8-e045-76dd3dd932f6"
      },
      "execution_count": null,
      "outputs": [
        {
          "output_type": "stream",
          "name": "stdout",
          "text": [
            "{'apple': 2, 'kiwi': 3}\n"
          ]
        }
      ]
    },
    {
      "cell_type": "markdown",
      "source": [
        "using a for loop, print the values of all the dictionary keys one by one."
      ],
      "metadata": {
        "id": "SuespAdbCXKg"
      }
    },
    {
      "cell_type": "code",
      "source": [
        "prices = {'apple': 2, 'kiwi': 3}\n",
        "for key in prices:\n",
        "    print (prices[key])"
      ],
      "metadata": {
        "colab": {
          "base_uri": "https://localhost:8080/"
        },
        "id": "AyhsHY9fCN_u",
        "outputId": "806a0839-20b1-47fe-a412-3037e83ef810"
      },
      "execution_count": null,
      "outputs": [
        {
          "output_type": "stream",
          "name": "stdout",
          "text": [
            "2\n",
            "3\n"
          ]
        }
      ]
    },
    {
      "cell_type": "code",
      "source": [
        "scores = {'Physics': 67, 'Maths': 87}\n",
        "\n",
        "print(scores.get('Physics'))   # 67\n",
        "print(scores.get('Biology'))   # None\n"
      ],
      "metadata": {
        "colab": {
          "base_uri": "https://localhost:8080/"
        },
        "id": "PLcdI1cCDOuC",
        "outputId": "7f3457fd-9f8a-4b48-9650-05d78e564c6c"
      },
      "execution_count": null,
      "outputs": [
        {
          "output_type": "stream",
          "name": "stdout",
          "text": [
            "67\n",
            "None\n"
          ]
        }
      ]
    },
    {
      "cell_type": "code",
      "source": [
        "scores = {'Physics': 67, 'Maths': 87}\n",
        "\n",
        "print(scores.get('Physics'))   # 67\n",
        "print(scores.get('Biology'))   # None\n"
      ],
      "metadata": {
        "colab": {
          "base_uri": "https://localhost:8080/"
        },
        "id": "OFy2Sp19DUFl",
        "outputId": "ec8000df-e14a-44ea-ebc6-0dfdc0d47833"
      },
      "execution_count": null,
      "outputs": [
        {
          "output_type": "stream",
          "name": "stdout",
          "text": [
            "67\n",
            "None\n"
          ]
        }
      ]
    },
    {
      "cell_type": "code",
      "source": [
        "original_marks = {'Physics': 67, 'Maths': 87}\n",
        "\n",
        "copied_marks = original_marks.copy()\n",
        "\n",
        "print(f\"Original Marks: {original_marks}\")\n",
        "print(f\"Copied Marks: {copied_marks}\")\n"
      ],
      "metadata": {
        "colab": {
          "base_uri": "https://localhost:8080/"
        },
        "id": "l9uyaTIvDr60",
        "outputId": "1b2af096-f746-47e5-c0c4-66f5c4ac1772"
      },
      "execution_count": null,
      "outputs": [
        {
          "output_type": "stream",
          "name": "stdout",
          "text": [
            "Original Marks: {'Physics': 67, 'Maths': 87}\n",
            "Copied Marks: {'Physics': 67, 'Maths': 87}\n"
          ]
        }
      ]
    },
    {
      "cell_type": "code",
      "source": [
        "animals = {'dog', 'cat', 'tiger'}\n",
        "print(animals)   # {'dog', 'cat', 'tiger'}\n",
        "\n",
        "mixed_set = {4, 'tiger', 3.5}\n",
        "print(mixed_set)   # {3.5, 'tiger', 4}\n"
      ],
      "metadata": {
        "colab": {
          "base_uri": "https://localhost:8080/"
        },
        "id": "fBJ9yoQrEGe3",
        "outputId": "f8894716-58bf-40a2-dbe8-c3d647885f08"
      },
      "execution_count": null,
      "outputs": [
        {
          "output_type": "stream",
          "name": "stdout",
          "text": [
            "{'dog', 'cat', 'tiger'}\n",
            "{3.5, 4, 'tiger'}\n"
          ]
        }
      ]
    },
    {
      "cell_type": "markdown",
      "source": [
        "check the type of animals"
      ],
      "metadata": {
        "id": "W7KRrglKEXD2"
      }
    },
    {
      "cell_type": "code",
      "source": [
        "animals"
      ],
      "metadata": {
        "colab": {
          "base_uri": "https://localhost:8080/"
        },
        "id": "K2qmy0XmEdqn",
        "outputId": "4c25f5dc-8e59-44a9-eb19-cac73ec13a74"
      },
      "execution_count": null,
      "outputs": [
        {
          "output_type": "execute_result",
          "data": {
            "text/plain": [
              "{'cat', 'dog', 'tiger'}"
            ]
          },
          "metadata": {},
          "execution_count": 15
        }
      ]
    },
    {
      "cell_type": "code",
      "source": [
        "print(type(animals))"
      ],
      "metadata": {
        "colab": {
          "base_uri": "https://localhost:8080/"
        },
        "id": "3-rU--l8E8ay",
        "outputId": "d49055dd-b171-42ed-dcbf-32ca6750c6a4"
      },
      "execution_count": null,
      "outputs": [
        {
          "output_type": "stream",
          "name": "stdout",
          "text": [
            "<class 'set'>\n"
          ]
        }
      ]
    },
    {
      "cell_type": "code",
      "source": [
        "empty_dict = {}"
      ],
      "metadata": {
        "id": "Aj6-ENHdJXBk"
      },
      "execution_count": null,
      "outputs": []
    },
    {
      "cell_type": "code",
      "source": [
        "d1 = {'a' : 'some value', 'b' : [1, 2, 3, 4]}\n",
        "print(d1)"
      ],
      "metadata": {
        "colab": {
          "base_uri": "https://localhost:8080/"
        },
        "id": "snNA0qx2Jcg3",
        "outputId": "4f2c1b76-3437-487a-87c8-fd30e6897eff"
      },
      "execution_count": null,
      "outputs": [
        {
          "output_type": "stream",
          "name": "stdout",
          "text": [
            "{'a': 'some value', 'b': [1, 2, 3, 4]}\n"
          ]
        }
      ]
    },
    {
      "cell_type": "code",
      "source": [
        "d1[7] = 'an integer'\n",
        "print(d1)"
      ],
      "metadata": {
        "colab": {
          "base_uri": "https://localhost:8080/"
        },
        "id": "UZoC5ag9Jtln",
        "outputId": "3c69fbb7-4adf-4735-caed-63349c30c8d6"
      },
      "execution_count": null,
      "outputs": [
        {
          "output_type": "stream",
          "name": "stdout",
          "text": [
            "{'a': 'some value', 'b': [1, 2, 3, 4], 7: 'an integer'}\n"
          ]
        }
      ]
    },
    {
      "cell_type": "code",
      "source": [
        "print(d1['b'])"
      ],
      "metadata": {
        "colab": {
          "base_uri": "https://localhost:8080/"
        },
        "id": "lTAci567KDuB",
        "outputId": "c2f4a5e6-e435-4142-bf4a-7d246bc2f052"
      },
      "execution_count": null,
      "outputs": [
        {
          "output_type": "stream",
          "name": "stdout",
          "text": [
            "[1, 2, 3, 4]\n"
          ]
        }
      ]
    },
    {
      "cell_type": "code",
      "source": [
        "alien_0 = {'color': 'green', 'points': 5}\n",
        "print(alien_0['color'])\n",
        "print(alien_0['points'])"
      ],
      "metadata": {
        "id": "i98ngPc3LkWT",
        "outputId": "31a0c6cb-4d58-48e4-ce80-698743cd80e6",
        "colab": {
          "base_uri": "https://localhost:8080/"
        }
      },
      "execution_count": null,
      "outputs": [
        {
          "output_type": "stream",
          "name": "stdout",
          "text": [
            "green\n",
            "5\n"
          ]
        }
      ]
    },
    {
      "cell_type": "markdown",
      "source": [
        "Create an empty set using the set() function and assign it to the numbers variable.\n",
        "Get an integer input from the user and assign it to the number variable.\n",
        "Add number to the numbers set using the set's add() method.\n",
        "Print the numbers set."
      ],
      "metadata": {
        "id": "akogTz1r561E"
      }
    },
    {
      "cell_type": "code",
      "source": [
        "numbers = set()\n",
        "number = int(input())\n",
        "numbers.add(number)\n",
        "print (numbers)"
      ],
      "metadata": {
        "colab": {
          "base_uri": "https://localhost:8080/"
        },
        "id": "17VauWAM58wR",
        "outputId": "e269ddd1-b0ca-4a45-e55d-2233f9788126"
      },
      "execution_count": null,
      "outputs": [
        {
          "output_type": "stream",
          "name": "stdout",
          "text": [
            "5\n",
            "{5}\n"
          ]
        }
      ]
    },
    {
      "cell_type": "markdown",
      "source": [
        "sets union"
      ],
      "metadata": {
        "id": "vhRYqulq7sIm"
      }
    },
    {
      "cell_type": "code",
      "source": [
        "domestic_animals = {'dog', 'cat', 'elephant'}\n",
        "wild_animals = {'lion', 'tiger', 'elephant'}\n",
        "animals = domestic_animals | wild_animals\n",
        "print(animals)"
      ],
      "metadata": {
        "colab": {
          "base_uri": "https://localhost:8080/"
        },
        "id": "TiTgj1sV7wLS",
        "outputId": "a09fdfb7-dac8-433a-8480-89eddaf0bc9d"
      },
      "execution_count": null,
      "outputs": [
        {
          "output_type": "stream",
          "name": "stdout",
          "text": [
            "{'elephant', 'tiger', 'lion', 'cat', 'dog'}\n"
          ]
        }
      ]
    },
    {
      "cell_type": "markdown",
      "source": [
        "sets intersection"
      ],
      "metadata": {
        "id": "9k4NRC5S8tOJ"
      }
    },
    {
      "cell_type": "code",
      "source": [
        "domestic_animals = {'dog', 'cat', 'elephant'}\n",
        "wild_animals = {'lion', 'tiger', 'elephant'}\n",
        "animals = domestic_animals & wild_animals\n",
        "print(animals)"
      ],
      "metadata": {
        "colab": {
          "base_uri": "https://localhost:8080/"
        },
        "id": "GzhzoY-c8naP",
        "outputId": "42af2512-7230-4893-9f53-5d88b8e22a27"
      },
      "execution_count": null,
      "outputs": [
        {
          "output_type": "stream",
          "name": "stdout",
          "text": [
            "{'elephant'}\n"
          ]
        }
      ]
    },
    {
      "cell_type": "code",
      "source": [
        "def display(n):\n",
        "\n",
        "    if n <= 3:\n",
        "        return \"Done\"\n",
        "\n",
        "    print(n)\n",
        "    return display(n + 1)\n",
        "\n",
        "print(display(1))"
      ],
      "metadata": {
        "colab": {
          "base_uri": "https://localhost:8080/"
        },
        "id": "2hp9XhzqbyCq",
        "outputId": "f5ea016d-20dd-4611-92cc-d6f3de5be216"
      },
      "execution_count": null,
      "outputs": [
        {
          "output_type": "stream",
          "name": "stdout",
          "text": [
            "Done\n"
          ]
        }
      ]
    },
    {
      "cell_type": "code",
      "source": [
        "def display(n):\n",
        "\n",
        "    if n >= 4:\n",
        "        return 1\n",
        "\n",
        "    return display(n + 1) * 2\n",
        "\n",
        "print(display(1))"
      ],
      "metadata": {
        "id": "98i-7VuseW23",
        "outputId": "67ea8651-5d79-4395-9a81-d1e5cc3c53b0",
        "colab": {
          "base_uri": "https://localhost:8080/"
        }
      },
      "execution_count": null,
      "outputs": [
        {
          "output_type": "stream",
          "name": "stdout",
          "text": [
            "8\n"
          ]
        }
      ]
    },
    {
      "cell_type": "code",
      "source": [],
      "metadata": {
        "id": "8gr5RSwz80Za"
      },
      "execution_count": null,
      "outputs": []
    },
    {
      "cell_type": "markdown",
      "source": [
        "Create a sequence of numbers 4, 7, 10 using the range() function.\n",
        "Convert this sequence to tuple using the tuple() function.\n",
        "Print the tuple."
      ],
      "metadata": {
        "id": "D2kPJJiodTU5"
      }
    },
    {
      "cell_type": "code",
      "source": [
        "numbers = tuple(range(4,11,3))\n",
        "print (numbers)"
      ],
      "metadata": {
        "id": "LN0xozUK80Jz",
        "colab": {
          "base_uri": "https://localhost:8080/"
        },
        "outputId": "77991e8e-0e0c-416a-bf65-1b8563497a45"
      },
      "execution_count": null,
      "outputs": [
        {
          "output_type": "stream",
          "name": "stdout",
          "text": [
            "(4, 7, 10)\n"
          ]
        }
      ]
    },
    {
      "cell_type": "markdown",
      "source": [
        "Create a sequence of numbers 4, 7, 10 using the range() function.\n",
        "Convert this sequence to tuple using the tuple() function.\n",
        "Print the tuple."
      ],
      "metadata": {
        "id": "EaN8S68YYfTY"
      }
    },
    {
      "cell_type": "code",
      "source": [
        "import math\n",
        "\n",
        "number = 25\n",
        "\n",
        "# compute square root\n",
        "result = math.sqrt(number)\n",
        "\n",
        "print(result)   # 5.0\n"
      ],
      "metadata": {
        "colab": {
          "base_uri": "https://localhost:8080/"
        },
        "id": "aMntelmqffGc",
        "outputId": "64918a9c-3d02-471d-e41d-525e101795ce"
      },
      "execution_count": null,
      "outputs": [
        {
          "output_type": "stream",
          "name": "stdout",
          "text": [
            "5.0\n"
          ]
        }
      ]
    },
    {
      "cell_type": "markdown",
      "source": [
        "Import the math module.\n",
        "Get two integer inputs from the user.\n",
        "Call the gcd() function with two numbers as arguments. The function returns the greatest common divisor.\n",
        "Print the result.\n"
      ],
      "metadata": {
        "id": "LA5YqjZcgn1a"
      }
    },
    {
      "cell_type": "code",
      "source": [
        "import math\n",
        "n1 = int(input())\n",
        "n2 = int(input())\n",
        "result = math.gcd(n1,n2)\n",
        "print (result)"
      ],
      "metadata": {
        "colab": {
          "base_uri": "https://localhost:8080/"
        },
        "id": "nrB9uu3ighdR",
        "outputId": "8eaedc24-f58a-419e-c0ea-213addc46142"
      },
      "execution_count": null,
      "outputs": [
        {
          "output_type": "stream",
          "name": "stdout",
          "text": [
            "15\n",
            "25\n",
            "5\n"
          ]
        }
      ]
    },
    {
      "cell_type": "markdown",
      "source": [
        "The random module provides different functions that allow us to generate random numbers.\n",
        "\n",
        "In this example, we will generate a random integer between 1 and 100 using the randint() function."
      ],
      "metadata": {
        "id": "UZLNxD0YhWew"
      }
    },
    {
      "cell_type": "code",
      "source": [
        "import random\n",
        "\n",
        "number_number = random.randint(1, 100)\n",
        "print(number)"
      ],
      "metadata": {
        "colab": {
          "base_uri": "https://localhost:8080/"
        },
        "id": "XsWohNT1hZp8",
        "outputId": "708626a3-80c5-4030-b86d-4048a43487c7"
      },
      "execution_count": null,
      "outputs": [
        {
          "output_type": "stream",
          "name": "stdout",
          "text": [
            "25\n"
          ]
        }
      ]
    },
    {
      "cell_type": "markdown",
      "source": [
        "The cost price of a book is 25 dollars.\n",
        "The selling price of the book is 35 dollars.\n",
        "Calculate the profit amount and print it."
      ],
      "metadata": {
        "id": "pCxM-Uju1gwC"
      }
    },
    {
      "cell_type": "code",
      "source": [
        "selling_price = 35\n",
        "cost_price = 25\n",
        "profit = selling_price - cost_price\n",
        "print (profit)"
      ],
      "metadata": {
        "colab": {
          "base_uri": "https://localhost:8080/"
        },
        "id": "V09trEB21ikY",
        "outputId": "a20dc792-466c-48fc-e950-54c03cee6c8d"
      },
      "execution_count": null,
      "outputs": [
        {
          "output_type": "stream",
          "name": "stdout",
          "text": [
            "10\n"
          ]
        }
      ]
    },
    {
      "cell_type": "code",
      "source": [
        "a = 20\n",
        "b = 6.5\n",
        "print(a * b)"
      ],
      "metadata": {
        "colab": {
          "base_uri": "https://localhost:8080/"
        },
        "id": "pHF188G52SbR",
        "outputId": "45a19bb7-6866-4241-cde8-fd63f76837e6"
      },
      "execution_count": null,
      "outputs": [
        {
          "output_type": "stream",
          "name": "stdout",
          "text": [
            "130.0\n"
          ]
        }
      ]
    },
    {
      "cell_type": "code",
      "source": [
        "result = 10 / 5 * 6\n",
        "print(result)"
      ],
      "metadata": {
        "colab": {
          "base_uri": "https://localhost:8080/"
        },
        "id": "VfBcgIwi2trf",
        "outputId": "85b9d3cb-d41e-4e2c-b491-ad31ced8eab3"
      },
      "execution_count": null,
      "outputs": [
        {
          "output_type": "stream",
          "name": "stdout",
          "text": [
            "12.0\n"
          ]
        }
      ]
    },
    {
      "cell_type": "markdown",
      "source": [
        "Imagine you have to divide 14 pens among 3 students equally. Your task is to find out:\n",
        "\n",
        "How many pens each student would get when divided equally?\n",
        "The number of pens left over (if any).\n",
        "To solve this problem:\n",
        "\n",
        "Create a variable named pen_number and assign it the value of 14.\n",
        "Create another variable named student_number and assign it the value of 3.\n",
        "Compute the number of pens each student will get and print the result.\n",
        "Compute the number of pens remaining and print the remainder.\n"
      ],
      "metadata": {
        "id": "PQxhphmk4yPr"
      }
    },
    {
      "cell_type": "code",
      "source": [
        "pen_number = 14\n",
        "student_number = 3\n",
        "\n",
        "quotient = pen_number // student_number\n",
        "print(f\"Pens for each student: {quotient}\")\n",
        "\n",
        "remainder = pen_number % student_number\n",
        "print(f\"Remaning pens: {remainder}\")"
      ],
      "metadata": {
        "colab": {
          "base_uri": "https://localhost:8080/"
        },
        "id": "5Lk3gtNB47GF",
        "outputId": "601a276d-59ac-4521-9ccb-2f6c41ba93ff"
      },
      "execution_count": null,
      "outputs": [
        {
          "output_type": "stream",
          "name": "stdout",
          "text": [
            "Pens for each student: 4\n",
            "Remaning pens: 2\n"
          ]
        }
      ]
    },
    {
      "cell_type": "code",
      "source": [
        "result = 2 ** 3\n",
        "print(result)"
      ],
      "metadata": {
        "colab": {
          "base_uri": "https://localhost:8080/"
        },
        "id": "yCvU5f3Q-Asf",
        "outputId": "68959aec-0781-4a15-c4c8-17cbfb4bc174"
      },
      "execution_count": null,
      "outputs": [
        {
          "output_type": "stream",
          "name": "stdout",
          "text": [
            "8\n"
          ]
        }
      ]
    },
    {
      "cell_type": "markdown",
      "source": [
        "Create a variable named length and assign it the value 5.\n",
        "Calculate the volume of the cube using its length.\n",
        "Print the volume."
      ],
      "metadata": {
        "id": "jBRanXDG-JEu"
      }
    },
    {
      "cell_type": "code",
      "source": [
        "length = 5\n",
        "volume = length ** 3\n",
        "print (volume)"
      ],
      "metadata": {
        "colab": {
          "base_uri": "https://localhost:8080/"
        },
        "id": "PY3Vpipp-KnL",
        "outputId": "f6f9c471-9618-433e-e890-6903623fdafd"
      },
      "execution_count": null,
      "outputs": [
        {
          "output_type": "stream",
          "name": "stdout",
          "text": [
            "125\n"
          ]
        }
      ]
    },
    {
      "cell_type": "code",
      "source": [
        "import math"
      ],
      "metadata": {
        "id": "L1wo-sJYD-_L"
      },
      "execution_count": 1,
      "outputs": []
    },
    {
      "cell_type": "code",
      "source": [],
      "metadata": {
        "id": "PwdSU_lIEGD1"
      },
      "execution_count": null,
      "outputs": []
    },
    {
      "cell_type": "markdown",
      "source": [
        "Once we import the module, we can use these functions. Let's use the sqrt() function (to compute square root) defined inside the math module."
      ],
      "metadata": {
        "id": "TTm3e7BbEQ5Q"
      }
    },
    {
      "cell_type": "code",
      "source": [
        "result = math.sqrt(25)\n",
        "print(result)"
      ],
      "metadata": {
        "colab": {
          "base_uri": "https://localhost:8080/"
        },
        "id": "GEF2MRJwESeU",
        "outputId": "0b9cf998-111e-4a1e-a9d8-e5eece2679e1"
      },
      "execution_count": 2,
      "outputs": [
        {
          "output_type": "stream",
          "name": "stdout",
          "text": [
            "5.0\n"
          ]
        }
      ]
    },
    {
      "cell_type": "markdown",
      "source": [
        "round a number down to the nearest integer"
      ],
      "metadata": {
        "id": "vtVX1LBnEomT"
      }
    },
    {
      "cell_type": "code",
      "source": [
        "number = 3.6\n",
        "result = math.floor(number)\n",
        "print(result)"
      ],
      "metadata": {
        "colab": {
          "base_uri": "https://localhost:8080/"
        },
        "id": "Qfxozo9mEpmH",
        "outputId": "9eccadca-b70a-433b-8787-7ac51d159d40"
      },
      "execution_count": 3,
      "outputs": [
        {
          "output_type": "stream",
          "name": "stdout",
          "text": [
            "3\n"
          ]
        }
      ]
    },
    {
      "cell_type": "code",
      "source": [
        "import math\n",
        "import math\n",
        "\n",
        "result = math.sqrt(9)\n",
        "print(result)"
      ],
      "metadata": {
        "colab": {
          "base_uri": "https://localhost:8080/"
        },
        "id": "x0jBM5YeE7j-",
        "outputId": "0453a3b1-b4b3-4277-89c3-4ba475172815"
      },
      "execution_count": 4,
      "outputs": [
        {
          "output_type": "stream",
          "name": "stdout",
          "text": [
            "3.0\n"
          ]
        }
      ]
    },
    {
      "cell_type": "code",
      "source": [
        "import math as m\n",
        "\n",
        "number = 25\n",
        "\n",
        "\n",
        "result = m.sqrt(number)\n",
        "\n",
        "print(result)   # 5.0"
      ],
      "metadata": {
        "colab": {
          "base_uri": "https://localhost:8080/"
        },
        "id": "dZzQMh2yFNua",
        "outputId": "6ee7fd44-6c1b-4323-8098-1c994f970db1"
      },
      "execution_count": 7,
      "outputs": [
        {
          "output_type": "stream",
          "name": "stdout",
          "text": [
            "5.0\n"
          ]
        }
      ]
    },
    {
      "cell_type": "code",
      "source": [
        "from math import sqrt, floor\n",
        "\n",
        "number = 25\n",
        "\n",
        "# compute square root\n",
        "result = sqrt(number)\n",
        "\n",
        "print(result)   #"
      ],
      "metadata": {
        "colab": {
          "base_uri": "https://localhost:8080/"
        },
        "id": "xGs0STidF1y_",
        "outputId": "02998530-67b0-42ff-95c6-0990e10ac3ba"
      },
      "execution_count": 8,
      "outputs": [
        {
          "output_type": "stream",
          "name": "stdout",
          "text": [
            "5.0\n"
          ]
        }
      ]
    },
    {
      "cell_type": "markdown",
      "source": [
        "Import the math module.\n",
        "Get two integer inputs from the user.\n",
        "Call the gcd() function with two numbers as arguments. The function returns the greatest common divisor.\n",
        "Print the result."
      ],
      "metadata": {
        "id": "QoXiI3t-GJv1"
      }
    },
    {
      "cell_type": "code",
      "source": [
        "import math\n",
        "n1 = int(input())\n",
        "n2 = int(input())\n",
        "result = math.gcd(n1,n2)\n",
        "print (result)\n",
        "#"
      ],
      "metadata": {
        "colab": {
          "base_uri": "https://localhost:8080/"
        },
        "id": "hQsnx5EzGMGV",
        "outputId": "5590f0ae-d1d4-4c0e-c5a1-31c6c3b85683"
      },
      "execution_count": 9,
      "outputs": [
        {
          "output_type": "stream",
          "name": "stdout",
          "text": [
            "15\n",
            "25\n",
            "5\n"
          ]
        }
      ]
    },
    {
      "cell_type": "markdown",
      "source": [
        "The random module provides different functions that allow us to generate random numbers.\n",
        "\n",
        "In this example, we will generate a random integer between 1 and 100 using the randint() function.\n",
        "\n"
      ],
      "metadata": {
        "id": "qGS-e9gGG3FW"
      }
    },
    {
      "cell_type": "code",
      "source": [
        "import random\n",
        "\n",
        "random_number = random.randint(1, 100)\n",
        "print(random_number)"
      ],
      "metadata": {
        "colab": {
          "base_uri": "https://localhost:8080/"
        },
        "id": "7FQblbAQG5D9",
        "outputId": "413e2f2d-51e5-4ae2-de4c-e3f95a67c4b6"
      },
      "execution_count": 10,
      "outputs": [
        {
          "output_type": "stream",
          "name": "stdout",
          "text": [
            "98\n"
          ]
        }
      ]
    }
  ]
}